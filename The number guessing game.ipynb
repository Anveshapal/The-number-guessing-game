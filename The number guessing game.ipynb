{
 "cells": [
  {
   "cell_type": "code",
   "execution_count": null,
   "id": "44491749-a949-40c3-be99-7d7bea746fad",
   "metadata": {},
   "outputs": [],
   "source": []
  },
  {
   "cell_type": "code",
   "execution_count": 66,
   "id": "d69a196c-e6be-414e-bd81-c06b03f1cd56",
   "metadata": {},
   "outputs": [],
   "source": [
    "import random as ran"
   ]
  },
  {
   "cell_type": "code",
   "execution_count": 41,
   "id": "d46ca44f-0df9-4dc6-84c0-2d13b8b6392c",
   "metadata": {},
   "outputs": [],
   "source": [
    "# choosing a random number"
   ]
  },
  {
   "cell_type": "code",
   "execution_count": 42,
   "id": "d649c47b-afb0-487f-927a-c45034053f8e",
   "metadata": {},
   "outputs": [],
   "source": [
    "def rand_num():\n",
    "    num = [s for s in range(1,101)]\n",
    "    num_choosed = ran.choice(num)\n",
    "    return num_choosed\n",
    "    \n",
    "    "
   ]
  },
  {
   "cell_type": "code",
   "execution_count": 68,
   "id": "2b25fbe2-38bd-4715-942b-a645358586c4",
   "metadata": {},
   "outputs": [],
   "source": [
    "#rand_num()"
   ]
  },
  {
   "cell_type": "code",
   "execution_count": 44,
   "id": "92c10c07-a74c-41d0-9f71-b2a9d1346608",
   "metadata": {},
   "outputs": [],
   "source": [
    "#check for high or low "
   ]
  },
  {
   "cell_type": "code",
   "execution_count": 72,
   "id": "f59c5bf4-52da-46fa-ad25-1a56c09ee127",
   "metadata": {},
   "outputs": [],
   "source": [
    "def check(user_num,randon_num):\n",
    "    n = random_num\n",
    "    \n",
    "    if user_num in range (10,101):\n",
    "        if user_num > n+7:\n",
    "            print('too high!')\n",
    "        elif user_num < n-7 :\n",
    "            print('too less!')\n",
    "        else:\n",
    "            print('little close!')\n",
    "    elif n in range (1,10):\n",
    "        print('little close, don\\'t go too high or low!')\n",
    "    elif n in range (10,101):\n",
    "        print('too less!')\n",
    "    "
   ]
  },
  {
   "cell_type": "code",
   "execution_count": 76,
   "id": "736cb0d2-885e-4916-b1bf-842b7475cd40",
   "metadata": {},
   "outputs": [],
   "source": [
    "#check(10,11)"
   ]
  },
  {
   "cell_type": "code",
   "execution_count": 47,
   "id": "e62f299e-71c7-4754-8bd7-3af2ae1ec895",
   "metadata": {},
   "outputs": [],
   "source": [
    "#win check"
   ]
  },
  {
   "cell_type": "code",
   "execution_count": 48,
   "id": "c86fc86c-bd26-47ed-991b-b4efaf6e6afd",
   "metadata": {},
   "outputs": [],
   "source": [
    "def win_check(user_num,random_num):\n",
    "    if user_num == random_num:\n",
    "        return True\n",
    "    return False"
   ]
  },
  {
   "cell_type": "code",
   "execution_count": 78,
   "id": "b525c835-aead-49f6-9e0d-13ff643b5bc2",
   "metadata": {},
   "outputs": [],
   "source": [
    "#win_check(12,12)"
   ]
  },
  {
   "cell_type": "code",
   "execution_count": 50,
   "id": "0a2a20f1-3935-4acb-80ff-2742bd607131",
   "metadata": {},
   "outputs": [],
   "source": [
    "#HANDLING INPUT FROM USER"
   ]
  },
  {
   "cell_type": "code",
   "execution_count": 51,
   "id": "7d32ab79-e98f-4970-a1bd-936926562640",
   "metadata": {},
   "outputs": [],
   "source": [
    "def user_input():\n",
    "\n",
    "    user = True\n",
    "    while user == True:\n",
    "\n",
    "       num = input('enter your guess(integer (0-100):')\n",
    "\n",
    "\n",
    "       try:\n",
    "         value = int(num)\n",
    "         user = False\n",
    "       except ValueError:\n",
    "         print('please enter an integer')\n",
    "    return int(num)"
   ]
  },
  {
   "cell_type": "code",
   "execution_count": 80,
   "id": "41eda0ef-9fe9-4693-a433-978be7a9d3fc",
   "metadata": {},
   "outputs": [],
   "source": [
    "#user_input()"
   ]
  },
  {
   "cell_type": "code",
   "execution_count": null,
   "id": "a5093490-805e-44e7-ae4a-024c3b478d0e",
   "metadata": {},
   "outputs": [],
   "source": [
    "# asking for replay"
   ]
  },
  {
   "cell_type": "code",
   "execution_count": 54,
   "id": "1a39fd75-7f23-411c-97f5-2c8f71daeae9",
   "metadata": {},
   "outputs": [],
   "source": [
    "def replay():\n",
    "\n",
    "    \n",
    "    while True:\n",
    "        ask = input('do you want to replay, answer in yes or no : ')\n",
    "\n",
    "        if ask.lower() == 'yes' :\n",
    "             return True\n",
    "             break\n",
    "        if ask.lower() == 'no':\n",
    "             return False\n",
    "             break\n",
    "        \n",
    "        \n",
    "\n"
   ]
  },
  {
   "cell_type": "code",
   "execution_count": 82,
   "id": "7d705257-c0ba-4e3e-9c38-dd2e54c7dab3",
   "metadata": {},
   "outputs": [],
   "source": [
    "#replay()"
   ]
  },
  {
   "cell_type": "code",
   "execution_count": null,
   "id": "48552871-7997-46ca-bbc0-ff4ec4b337cb",
   "metadata": {},
   "outputs": [],
   "source": []
  },
  {
   "cell_type": "code",
   "execution_count": null,
   "id": "e49a7bef-e475-4a7a-9106-dbc8792e9fc7",
   "metadata": {},
   "outputs": [],
   "source": [
    "#CODE LOGIC! Run this cell !"
   ]
  },
  {
   "cell_type": "code",
   "execution_count": 86,
   "id": "0095e558-faa9-493d-af39-c4a875e80117",
   "metadata": {},
   "outputs": [
    {
     "name": "stdout",
     "output_type": "stream",
     "text": [
      "Welcome to no guessing game!\n"
     ]
    },
    {
     "name": "stdin",
     "output_type": "stream",
     "text": [
      "enter your guess(integer (0-100): 34\n"
     ]
    },
    {
     "name": "stdout",
     "output_type": "stream",
     "text": [
      "little close!\n",
      "number of attempts left : 2\n"
     ]
    },
    {
     "name": "stdin",
     "output_type": "stream",
     "text": [
      "enter your guess(integer (0-100): 37\n"
     ]
    },
    {
     "name": "stdout",
     "output_type": "stream",
     "text": [
      "little close!\n",
      "number of attempts left : 1\n"
     ]
    },
    {
     "name": "stdin",
     "output_type": "stream",
     "text": [
      "enter your guess(integer (0-100): 38\n"
     ]
    },
    {
     "name": "stdout",
     "output_type": "stream",
     "text": [
      "little close!\n",
      "number of attempts left : 0\n",
      "you lose! The number was 31\n"
     ]
    },
    {
     "name": "stdin",
     "output_type": "stream",
     "text": [
      "do you want to replay, answer in yes or no :  no\n"
     ]
    }
   ],
   "source": [
    "print('Welcome to no guessing game!')\n",
    "\n",
    "while True:\n",
    "\n",
    "  no_of_attempts = 3\n",
    "  random_num = rand_num()\n",
    "    \n",
    "  while no_of_attempts>0:\n",
    "        \n",
    "        user_num = user_input()\n",
    "        if win_check(user_num,random_num) == True:\n",
    "            no_of_attempts = 0\n",
    "            print('you gussed the correct number!')\n",
    "        else:\n",
    "            check(user_num,random_num)\n",
    "            no_of_attempts =no_of_attempts - 1\n",
    "            print(f'number of attempts left : {no_of_attempts}')\n",
    "            if no_of_attempts == 0:\n",
    "                print('you lose! The number was {}'.format(random_num))\n",
    "\n",
    "    \n",
    "\n",
    "  if not replay():\n",
    "      break\n",
    "\n",
    "\n"
   ]
  },
  {
   "cell_type": "code",
   "execution_count": null,
   "id": "e762e867-328f-49cf-84c2-54d8216ffe25",
   "metadata": {},
   "outputs": [],
   "source": [
    "#Thankyou "
   ]
  },
  {
   "cell_type": "code",
   "execution_count": null,
   "id": "88d7903c-1527-46d0-a2fc-6a85d9adc459",
   "metadata": {},
   "outputs": [],
   "source": []
  },
  {
   "cell_type": "code",
   "execution_count": null,
   "id": "87484a74-cc69-45a3-ac81-caaa785092e9",
   "metadata": {},
   "outputs": [],
   "source": []
  },
  {
   "cell_type": "code",
   "execution_count": null,
   "id": "61fa19f6-39f4-440a-a43c-b42256a3ff02",
   "metadata": {},
   "outputs": [],
   "source": []
  },
  {
   "cell_type": "code",
   "execution_count": null,
   "id": "e15b303b-496c-45ad-8a7c-ddae3c7691f6",
   "metadata": {},
   "outputs": [],
   "source": []
  },
  {
   "cell_type": "code",
   "execution_count": null,
   "id": "fd1cc5a6-bd9e-4701-ae29-b873960d386c",
   "metadata": {},
   "outputs": [],
   "source": []
  },
  {
   "cell_type": "code",
   "execution_count": null,
   "id": "7b615b44-03da-42cc-93ff-9fc2756a73c7",
   "metadata": {},
   "outputs": [],
   "source": []
  },
  {
   "cell_type": "code",
   "execution_count": null,
   "id": "afd8b914-4345-4488-badd-03512b825a71",
   "metadata": {},
   "outputs": [],
   "source": []
  }
 ],
 "metadata": {
  "kernelspec": {
   "display_name": "Python 3 (ipykernel)",
   "language": "python",
   "name": "python3"
  },
  "language_info": {
   "codemirror_mode": {
    "name": "ipython",
    "version": 3
   },
   "file_extension": ".py",
   "mimetype": "text/x-python",
   "name": "python",
   "nbconvert_exporter": "python",
   "pygments_lexer": "ipython3",
   "version": "3.11.7"
  }
 },
 "nbformat": 4,
 "nbformat_minor": 5
}
